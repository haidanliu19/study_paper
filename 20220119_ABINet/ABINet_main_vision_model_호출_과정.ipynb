{
  "nbformat": 4,
  "nbformat_minor": 0,
  "metadata": {
    "colab": {
      "name": "ABINet_main_vision_model 호출 과정.ipynb",
      "provenance": [],
      "collapsed_sections": []
    },
    "kernelspec": {
      "name": "python3",
      "display_name": "Python 3"
    },
    "language_info": {
      "name": "python"
    }
  },
  "cells": [
    {
      "cell_type": "code",
      "execution_count": 1,
      "metadata": {
        "colab": {
          "base_uri": "https://localhost:8080/"
        },
        "id": "nkc9SmIn03H6",
        "outputId": "5f338824-c9cb-4fc1-8a4a-ff1635564790"
      },
      "outputs": [
        {
          "output_type": "stream",
          "name": "stdout",
          "text": [
            "Cloning into 'ABINet'...\n",
            "remote: Enumerating objects: 75, done.\u001b[K\n",
            "remote: Counting objects: 100% (75/75), done.\u001b[K\n",
            "remote: Compressing objects: 100% (60/60), done.\u001b[K\n",
            "remote: Total 75 (delta 13), reused 64 (delta 10), pack-reused 0\u001b[K\n",
            "Unpacking objects: 100% (75/75), done.\n"
          ]
        }
      ],
      "source": [
        "!git clone https://github.com/FangShancheng/ABINet.git"
      ]
    },
    {
      "cell_type": "code",
      "source": [
        "%cd ABINet"
      ],
      "metadata": {
        "colab": {
          "base_uri": "https://localhost:8080/"
        },
        "id": "-y9Um5Fv1B7N",
        "outputId": "12055cc3-06a9-42d1-f30b-6ab1e2c6c238"
      },
      "execution_count": 2,
      "outputs": [
        {
          "output_type": "stream",
          "name": "stdout",
          "text": [
            "/content/ABINet\n"
          ]
        }
      ]
    },
    {
      "cell_type": "code",
      "source": [
        "def _get_model(config):\n",
        "    import importlib\n",
        "    names = config.model_name.split('.')\n",
        "    module_name, class_name = '.'.join(names[:-1]), names[-1]\n",
        "    cls = getattr(importlib.import_module(module_name), class_name)\n",
        "    model = cls(config)\n",
        "    return model"
      ],
      "metadata": {
        "id": "8uzO-Y5y1IR7"
      },
      "execution_count": 3,
      "outputs": []
    },
    {
      "cell_type": "code",
      "source": [
        "names = 'modules.model_vision.BaseVision'.split('.')\n",
        "names"
      ],
      "metadata": {
        "colab": {
          "base_uri": "https://localhost:8080/"
        },
        "id": "Fjm6J8O11Qfj",
        "outputId": "cc15de97-6da9-4446-8069-77761511781e"
      },
      "execution_count": 4,
      "outputs": [
        {
          "output_type": "execute_result",
          "data": {
            "text/plain": [
              "['modules', 'model_vision', 'BaseVision']"
            ]
          },
          "metadata": {},
          "execution_count": 4
        }
      ]
    },
    {
      "cell_type": "code",
      "source": [
        "module_name, class_name = '.'.join(names[:-1]), names[-1]\n",
        "module_name, class_name"
      ],
      "metadata": {
        "colab": {
          "base_uri": "https://localhost:8080/"
        },
        "id": "DpSsilYR1a1w",
        "outputId": "a1d4e7ac-995b-401f-d37f-153269cc9c83"
      },
      "execution_count": 5,
      "outputs": [
        {
          "output_type": "execute_result",
          "data": {
            "text/plain": [
              "('modules.model_vision', 'BaseVision')"
            ]
          },
          "metadata": {},
          "execution_count": 5
        }
      ]
    },
    {
      "cell_type": "code",
      "source": [
        "import importlib\n",
        "#from fastai.vision import *\n",
        "cls = getattr(importlib.import_module(module_name), class_name)\n",
        "cls"
      ],
      "metadata": {
        "colab": {
          "base_uri": "https://localhost:8080/"
        },
        "id": "AzFLfe_c1ek4",
        "outputId": "93c7e169-69bf-484f-9656-4216191c7323"
      },
      "execution_count": 6,
      "outputs": [
        {
          "output_type": "execute_result",
          "data": {
            "text/plain": [
              "modules.model_vision.BaseVision"
            ]
          },
          "metadata": {},
          "execution_count": 6
        }
      ]
    },
    {
      "cell_type": "code",
      "source": [
        "configs = \"configs/pretrain_vision_model.yaml\"\n",
        "from utils import Config\n",
        "config = Config(configs)\n",
        "print(config)"
      ],
      "metadata": {
        "colab": {
          "base_uri": "https://localhost:8080/",
          "height": 363
        },
        "id": "ckmQEGM72BA-",
        "outputId": "35e292d0-890d-41a1-99bd-871ea5a9a045"
      },
      "execution_count": 27,
      "outputs": [
        {
          "output_type": "error",
          "ename": "AttributeError",
          "evalue": "ignored",
          "traceback": [
            "\u001b[0;31m---------------------------------------------------------------------------\u001b[0m",
            "\u001b[0;31mAttributeError\u001b[0m                            Traceback (most recent call last)",
            "\u001b[0;32m<ipython-input-27-eccf2e615aaa>\u001b[0m in \u001b[0;36m<module>\u001b[0;34m()\u001b[0m\n\u001b[1;32m      1\u001b[0m \u001b[0mconfigs\u001b[0m \u001b[0;34m=\u001b[0m \u001b[0;34m\"configs/pretrain_vision_model.yaml\"\u001b[0m\u001b[0;34m\u001b[0m\u001b[0;34m\u001b[0m\u001b[0m\n\u001b[1;32m      2\u001b[0m \u001b[0;32mfrom\u001b[0m \u001b[0mutils\u001b[0m \u001b[0;32mimport\u001b[0m \u001b[0mConfig\u001b[0m\u001b[0;34m\u001b[0m\u001b[0;34m\u001b[0m\u001b[0m\n\u001b[0;32m----> 3\u001b[0;31m \u001b[0mconfig\u001b[0m \u001b[0;34m=\u001b[0m \u001b[0mConfig\u001b[0m\u001b[0;34m(\u001b[0m\u001b[0mconfigs\u001b[0m\u001b[0;34m)\u001b[0m\u001b[0;34m\u001b[0m\u001b[0;34m\u001b[0m\u001b[0m\n\u001b[0m\u001b[1;32m      4\u001b[0m \u001b[0mprint\u001b[0m\u001b[0;34m(\u001b[0m\u001b[0mconfig\u001b[0m\u001b[0;34m)\u001b[0m\u001b[0;34m\u001b[0m\u001b[0;34m\u001b[0m\u001b[0m\n",
            "\u001b[0;32m/content/ABINet/utils.py\u001b[0m in \u001b[0;36m__init__\u001b[0;34m(self, config_path, host)\u001b[0m\n\u001b[1;32m    202\u001b[0m         \u001b[0;32massert\u001b[0m \u001b[0mos\u001b[0m\u001b[0;34m.\u001b[0m\u001b[0mpath\u001b[0m\u001b[0;34m.\u001b[0m\u001b[0mexists\u001b[0m\u001b[0;34m(\u001b[0m\u001b[0mconfig_path\u001b[0m\u001b[0;34m)\u001b[0m\u001b[0;34m,\u001b[0m \u001b[0;34m'%s does not exists!'\u001b[0m \u001b[0;34m%\u001b[0m \u001b[0mconfig_path\u001b[0m\u001b[0;34m\u001b[0m\u001b[0;34m\u001b[0m\u001b[0m\n\u001b[1;32m    203\u001b[0m         \u001b[0;32mwith\u001b[0m \u001b[0mopen\u001b[0m\u001b[0;34m(\u001b[0m\u001b[0mconfig_path\u001b[0m\u001b[0;34m)\u001b[0m \u001b[0;32mas\u001b[0m \u001b[0mfile\u001b[0m\u001b[0;34m:\u001b[0m\u001b[0;34m\u001b[0m\u001b[0;34m\u001b[0m\u001b[0m\n\u001b[0;32m--> 204\u001b[0;31m             \u001b[0mconfig_dict\u001b[0m \u001b[0;34m=\u001b[0m \u001b[0myaml\u001b[0m\u001b[0;34m.\u001b[0m\u001b[0mload\u001b[0m\u001b[0;34m(\u001b[0m\u001b[0mfile\u001b[0m\u001b[0;34m,\u001b[0m \u001b[0mLoader\u001b[0m\u001b[0;34m=\u001b[0m\u001b[0myaml\u001b[0m\u001b[0;34m.\u001b[0m\u001b[0mFullLoader\u001b[0m\u001b[0;34m)\u001b[0m\u001b[0;34m\u001b[0m\u001b[0;34m\u001b[0m\u001b[0m\n\u001b[0m\u001b[1;32m    205\u001b[0m         \u001b[0;32mwith\u001b[0m \u001b[0mopen\u001b[0m\u001b[0;34m(\u001b[0m\u001b[0;34m'configs/template.yaml'\u001b[0m\u001b[0;34m)\u001b[0m \u001b[0;32mas\u001b[0m \u001b[0mfile\u001b[0m\u001b[0;34m:\u001b[0m\u001b[0;34m\u001b[0m\u001b[0;34m\u001b[0m\u001b[0m\n\u001b[1;32m    206\u001b[0m             \u001b[0mdefault_config_dict\u001b[0m \u001b[0;34m=\u001b[0m \u001b[0myaml\u001b[0m\u001b[0;34m.\u001b[0m\u001b[0mload\u001b[0m\u001b[0;34m(\u001b[0m\u001b[0mfile\u001b[0m\u001b[0;34m,\u001b[0m \u001b[0mLoader\u001b[0m\u001b[0;34m=\u001b[0m\u001b[0myaml\u001b[0m\u001b[0;34m.\u001b[0m\u001b[0mFullLoader\u001b[0m\u001b[0;34m)\u001b[0m\u001b[0;34m\u001b[0m\u001b[0;34m\u001b[0m\u001b[0m\n",
            "\u001b[0;31mAttributeError\u001b[0m: module 'yaml' has no attribute 'FullLoader'"
          ]
        }
      ]
    },
    {
      "cell_type": "code",
      "source": [
        "!pip install -U PyYAML"
      ],
      "metadata": {
        "colab": {
          "base_uri": "https://localhost:8080/"
        },
        "id": "Clcp1-iW5R3s",
        "outputId": "a4818a6d-9b91-4815-99f3-71e24da2fcd1"
      },
      "execution_count": 24,
      "outputs": [
        {
          "output_type": "stream",
          "name": "stdout",
          "text": [
            "Requirement already satisfied: PyYAML in /usr/local/lib/python3.7/dist-packages (6.0)\n"
          ]
        }
      ]
    },
    {
      "cell_type": "code",
      "source": [
        "import logging\n",
        "import os\n",
        "import time\n",
        "\n",
        "import cv2\n",
        "import numpy as np\n",
        "import torch\n",
        "import yaml\n",
        "from matplotlib import colors\n",
        "from matplotlib import pyplot as plt\n",
        "from torch import Tensor, nn\n",
        "\n",
        "class Config1(object):\n",
        "\n",
        "    def __init__(self, config_path, host=True):\n",
        "        def __dict2attr(d, prefix=''):\n",
        "            for k, v in d.items():\n",
        "                if isinstance(v, dict):\n",
        "                    __dict2attr(v, f'{prefix}{k}_')\n",
        "                else:\n",
        "                    if k == 'phase':\n",
        "                        assert v in ['train', 'test']\n",
        "                    if k == 'stage':\n",
        "                        assert v in ['pretrain-vision', 'pretrain-language',\n",
        "                                     'train-semi-super', 'train-super']\n",
        "                    self.__setattr__(f'{prefix}{k}', v)\n",
        "\n",
        "        assert os.path.exists(config_path), '%s does not exists!' % config_path\n",
        "        with open(config_path) as file:\n",
        "            #config_dict = yaml.load(file, Loader=yaml.FullLoader)\n",
        "            config_dict = yaml.load(file)\n",
        "        with open('configs/template.yaml') as file:\n",
        "            #default_config_dict = yaml.load(file, Loader=yaml.FullLoader)\n",
        "            default_config_dict = yaml.load(file)\n",
        "        __dict2attr(default_config_dict)\n",
        "        __dict2attr(config_dict)\n",
        "        self.global_workdir = os.path.join(self.global_workdir, self.global_name)\n",
        "\n",
        "    def __getattr__(self, item):\n",
        "        attr = self.__dict__.get(item)\n",
        "        if attr is None:\n",
        "            attr = dict()\n",
        "            prefix = f'{item}_'\n",
        "            for k, v in self.__dict__.items():\n",
        "                if k.startswith(prefix):\n",
        "                    n = k.replace(prefix, '')\n",
        "                    attr[n] = v\n",
        "            return attr if len(attr) > 0 else None\n",
        "        else:\n",
        "            return attr\n",
        "\n",
        "    def __repr__(self):\n",
        "        str = 'ModelConfig(\\n'\n",
        "        for i, (k, v) in enumerate(sorted(vars(self).items())):\n",
        "            str += f'\\t({i}): {k} = {v}\\n'\n",
        "        str += ')'\n",
        "        return str\n",
        "configs = \"configs/pretrain_vision_model.yaml\"\n",
        "config = Config1(configs)\n",
        "print(config)"
      ],
      "metadata": {
        "colab": {
          "base_uri": "https://localhost:8080/"
        },
        "id": "lmwWQ6dk4lyc",
        "outputId": "a3d22fdf-dcce-40e7-fb93-a7a876483ea8"
      },
      "execution_count": 30,
      "outputs": [
        {
          "output_type": "stream",
          "name": "stdout",
          "text": [
            "ModelConfig(\n",
            "\t(0): dataset_case_sensitive = False\n",
            "\t(1): dataset_charset_path = data/charset_36.txt\n",
            "\t(2): dataset_data_aug = True\n",
            "\t(3): dataset_eval_case_sensitive = False\n",
            "\t(4): dataset_image_height = 32\n",
            "\t(5): dataset_image_width = 128\n",
            "\t(6): dataset_max_length = 25\n",
            "\t(7): dataset_multiscales = False\n",
            "\t(8): dataset_num_workers = 14\n",
            "\t(9): dataset_one_hot_y = True\n",
            "\t(10): dataset_pin_memory = True\n",
            "\t(11): dataset_smooth_factor = 0.1\n",
            "\t(12): dataset_smooth_label = False\n",
            "\t(13): dataset_test_batch_size = 384\n",
            "\t(14): dataset_test_roots = ['data/evaluation/IIIT5k_3000', 'data/evaluation/SVT', 'data/evaluation/SVTP', 'data/evaluation/IC13_857', 'data/evaluation/IC15_1811', 'data/evaluation/CUTE80']\n",
            "\t(15): dataset_train_batch_size = 384\n",
            "\t(16): dataset_train_roots = ['data/training/MJ/MJ_train/', 'data/training/MJ/MJ_test/', 'data/training/MJ/MJ_valid/', 'data/training/ST']\n",
            "\t(17): dataset_use_sm = False\n",
            "\t(18): global_name = pretrain-vision-model\n",
            "\t(19): global_phase = train\n",
            "\t(20): global_seed = None\n",
            "\t(21): global_stage = pretrain-vision\n",
            "\t(22): global_workdir = workdir/pretrain-vision-model\n",
            "\t(23): model_checkpoint = None\n",
            "\t(24): model_name = modules.model_vision.BaseVision\n",
            "\t(25): model_strict = True\n",
            "\t(26): model_vision_attention = position\n",
            "\t(27): model_vision_backbone = transformer\n",
            "\t(28): model_vision_backbone_ln = 3\n",
            "\t(29): model_vision_loss_weight = 1.0\n",
            "\t(30): optimizer_args_betas = (0.9, 0.999)\n",
            "\t(31): optimizer_bn_wd = False\n",
            "\t(32): optimizer_clip_grad = 20\n",
            "\t(33): optimizer_lr = 0.0001\n",
            "\t(34): optimizer_scheduler_gamma = 0.1\n",
            "\t(35): optimizer_scheduler_periods = [6, 2]\n",
            "\t(36): optimizer_true_wd = False\n",
            "\t(37): optimizer_type = Adam\n",
            "\t(38): optimizer_wd = 0.0\n",
            "\t(39): training_epochs = 8\n",
            "\t(40): training_eval_iters = 3000\n",
            "\t(41): training_save_iters = 3000\n",
            "\t(42): training_show_iters = 50\n",
            "\t(43): training_start_iters = 0\n",
            "\t(44): training_stats_iters = 100000\n",
            ")\n"
          ]
        }
      ]
    },
    {
      "cell_type": "code",
      "source": [
        ""
      ],
      "metadata": {
        "id": "Qytz2Lv24Ayh"
      },
      "execution_count": null,
      "outputs": []
    }
  ]
}