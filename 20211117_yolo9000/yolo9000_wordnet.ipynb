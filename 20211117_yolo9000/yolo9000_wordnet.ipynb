{
  "nbformat": 4,
  "nbformat_minor": 0,
  "metadata": {
    "colab": {
      "name": "yolo9000_wordnet.ipynb",
      "provenance": []
    },
    "kernelspec": {
      "name": "python3",
      "display_name": "Python 3"
    },
    "language_info": {
      "name": "python"
    }
  },
  "cells": [
    {
      "cell_type": "code",
      "metadata": {
        "id": "Q3KtJGZZSJGo"
      },
      "source": [
        "import nltk"
      ],
      "execution_count": 1,
      "outputs": []
    },
    {
      "cell_type": "code",
      "metadata": {
        "colab": {
          "base_uri": "https://localhost:8080/"
        },
        "id": "wbhyUihvSNsq",
        "outputId": "1b8ce723-d23d-41c2-d69f-7394fbafd88d"
      },
      "source": [
        "nltk.download('wordnet')"
      ],
      "execution_count": 2,
      "outputs": [
        {
          "output_type": "stream",
          "name": "stdout",
          "text": [
            "[nltk_data] Downloading package wordnet to /root/nltk_data...\n",
            "[nltk_data]   Unzipping corpora/wordnet.zip.\n"
          ]
        },
        {
          "output_type": "execute_result",
          "data": {
            "text/plain": [
              "True"
            ]
          },
          "metadata": {},
          "execution_count": 2
        }
      ]
    },
    {
      "cell_type": "code",
      "metadata": {
        "id": "OLYYc85wSXom"
      },
      "source": [
        "from nltk.corpus import wordnet as wn"
      ],
      "execution_count": 3,
      "outputs": []
    },
    {
      "cell_type": "code",
      "metadata": {
        "colab": {
          "base_uri": "https://localhost:8080/"
        },
        "id": "b3JrhLTlSanu",
        "outputId": "5abbd75e-b45f-4de3-ad07-9d3a2bfbe00f"
      },
      "source": [
        "print(wn.synsets('dog'))"
      ],
      "execution_count": 18,
      "outputs": [
        {
          "output_type": "stream",
          "name": "stdout",
          "text": [
            "[Synset('dog.n.01'), Synset('frump.n.01'), Synset('dog.n.03'), Synset('cad.n.01'), Synset('frank.n.02'), Synset('pawl.n.01'), Synset('andiron.n.01'), Synset('chase.v.01')]\n"
          ]
        }
      ]
    },
    {
      "cell_type": "code",
      "metadata": {
        "colab": {
          "base_uri": "https://localhost:8080/"
        },
        "id": "9p2ICtLBSdl2",
        "outputId": "5b417757-331e-4152-994e-279968390c04"
      },
      "source": [
        "dog = wn.synset('dog.n.01')\n",
        "print(dog.definition()) # an adult person who is male (as opposed to a woman)"
      ],
      "execution_count": 19,
      "outputs": [
        {
          "output_type": "stream",
          "name": "stdout",
          "text": [
            "a member of the genus Canis (probably descended from the common wolf) that has been domesticated by man since prehistoric times; occurs in many breeds\n"
          ]
        }
      ]
    },
    {
      "cell_type": "code",
      "metadata": {
        "colab": {
          "base_uri": "https://localhost:8080/"
        },
        "id": "YJqnQihiSmGO",
        "outputId": "bc1db4e3-1ade-4a9f-9e88-4efcda30502c"
      },
      "source": [
        "dog.hypernym_paths()"
      ],
      "execution_count": 21,
      "outputs": [
        {
          "output_type": "execute_result",
          "data": {
            "text/plain": [
              "[[Synset('entity.n.01'),\n",
              "  Synset('physical_entity.n.01'),\n",
              "  Synset('object.n.01'),\n",
              "  Synset('whole.n.02'),\n",
              "  Synset('living_thing.n.01'),\n",
              "  Synset('organism.n.01'),\n",
              "  Synset('animal.n.01'),\n",
              "  Synset('chordate.n.01'),\n",
              "  Synset('vertebrate.n.01'),\n",
              "  Synset('mammal.n.01'),\n",
              "  Synset('placental.n.01'),\n",
              "  Synset('carnivore.n.01'),\n",
              "  Synset('canine.n.02'),\n",
              "  Synset('dog.n.01')],\n",
              " [Synset('entity.n.01'),\n",
              "  Synset('physical_entity.n.01'),\n",
              "  Synset('object.n.01'),\n",
              "  Synset('whole.n.02'),\n",
              "  Synset('living_thing.n.01'),\n",
              "  Synset('organism.n.01'),\n",
              "  Synset('animal.n.01'),\n",
              "  Synset('domestic_animal.n.01'),\n",
              "  Synset('dog.n.01')]]"
            ]
          },
          "metadata": {},
          "execution_count": 21
        }
      ]
    },
    {
      "cell_type": "code",
      "metadata": {
        "colab": {
          "base_uri": "https://localhost:8080/"
        },
        "id": "i1W1625DSoqu",
        "outputId": "23600adb-3e23-4050-de0e-d9b776e79fea"
      },
      "source": [
        "for i, path in enumerate(dog.hypernym_paths()):\n",
        "    print(path)\n",
        "    print()"
      ],
      "execution_count": 22,
      "outputs": [
        {
          "output_type": "stream",
          "name": "stdout",
          "text": [
            "[Synset('entity.n.01'), Synset('physical_entity.n.01'), Synset('object.n.01'), Synset('whole.n.02'), Synset('living_thing.n.01'), Synset('organism.n.01'), Synset('animal.n.01'), Synset('chordate.n.01'), Synset('vertebrate.n.01'), Synset('mammal.n.01'), Synset('placental.n.01'), Synset('carnivore.n.01'), Synset('canine.n.02'), Synset('dog.n.01')]\n",
            "\n",
            "[Synset('entity.n.01'), Synset('physical_entity.n.01'), Synset('object.n.01'), Synset('whole.n.02'), Synset('living_thing.n.01'), Synset('organism.n.01'), Synset('animal.n.01'), Synset('domestic_animal.n.01'), Synset('dog.n.01')]\n",
            "\n"
          ]
        }
      ]
    },
    {
      "cell_type": "code",
      "metadata": {
        "colab": {
          "base_uri": "https://localhost:8080/"
        },
        "id": "rjO8OhVpSsHe",
        "outputId": "c679a662-ac56-48f7-eb49-4ffc2c3dfd6d"
      },
      "source": [
        "print(dog.hypernyms()[0].hyponyms())"
      ],
      "execution_count": 25,
      "outputs": [
        {
          "output_type": "stream",
          "name": "stdout",
          "text": [
            "[Synset('bitch.n.04'), Synset('dog.n.01'), Synset('fox.n.01'), Synset('hyena.n.01'), Synset('jackal.n.01'), Synset('wild_dog.n.01'), Synset('wolf.n.01')]\n"
          ]
        }
      ]
    },
    {
      "cell_type": "code",
      "metadata": {
        "colab": {
          "base_uri": "https://localhost:8080/"
        },
        "id": "Xu6hyQSkS2KO",
        "outputId": "d2bb5dcb-0ee8-4a62-a713-0c50dd8d0226"
      },
      "source": [
        "print(dog.hypernyms()[0].hyponyms()[1].hyponyms())"
      ],
      "execution_count": 27,
      "outputs": [
        {
          "output_type": "stream",
          "name": "stdout",
          "text": [
            "[Synset('basenji.n.01'), Synset('corgi.n.01'), Synset('cur.n.01'), Synset('dalmatian.n.02'), Synset('great_pyrenees.n.01'), Synset('griffon.n.02'), Synset('hunting_dog.n.01'), Synset('lapdog.n.01'), Synset('leonberg.n.01'), Synset('mexican_hairless.n.01'), Synset('newfoundland.n.01'), Synset('pooch.n.01'), Synset('poodle.n.01'), Synset('pug.n.01'), Synset('puppy.n.01'), Synset('spitz.n.01'), Synset('toy_dog.n.01'), Synset('working_dog.n.01')]\n"
          ]
        }
      ]
    },
    {
      "cell_type": "code",
      "metadata": {
        "colab": {
          "base_uri": "https://localhost:8080/"
        },
        "id": "KbHnd5gAU-hn",
        "outputId": "f925e349-cff2-455e-ab34-a370ff382e67"
      },
      "source": [
        "list_ = dog.hypernyms()[0].hyponyms()[1].hyponyms()\n",
        "for i,val in enumerate(list_):\n",
        "    print(i, val)"
      ],
      "execution_count": 29,
      "outputs": [
        {
          "output_type": "stream",
          "name": "stdout",
          "text": [
            "0 Synset('basenji.n.01')\n",
            "1 Synset('corgi.n.01')\n",
            "2 Synset('cur.n.01')\n",
            "3 Synset('dalmatian.n.02')\n",
            "4 Synset('great_pyrenees.n.01')\n",
            "5 Synset('griffon.n.02')\n",
            "6 Synset('hunting_dog.n.01')\n",
            "7 Synset('lapdog.n.01')\n",
            "8 Synset('leonberg.n.01')\n",
            "9 Synset('mexican_hairless.n.01')\n",
            "10 Synset('newfoundland.n.01')\n",
            "11 Synset('pooch.n.01')\n",
            "12 Synset('poodle.n.01')\n",
            "13 Synset('pug.n.01')\n",
            "14 Synset('puppy.n.01')\n",
            "15 Synset('spitz.n.01')\n",
            "16 Synset('toy_dog.n.01')\n",
            "17 Synset('working_dog.n.01')\n"
          ]
        }
      ]
    },
    {
      "cell_type": "code",
      "metadata": {
        "colab": {
          "base_uri": "https://localhost:8080/"
        },
        "id": "diOBHre-VJmN",
        "outputId": "15f1b730-39ec-43da-fb6b-0b567aca75bc"
      },
      "source": [
        "huntingdog = dog.hypernyms()[0].hyponyms()[1].hyponyms()[6].hyponyms()\n",
        "huntingdog"
      ],
      "execution_count": 30,
      "outputs": [
        {
          "output_type": "execute_result",
          "data": {
            "text/plain": [
              "[Synset('courser.n.03'),\n",
              " Synset('dachshund.n.01'),\n",
              " Synset('hound.n.01'),\n",
              " Synset('rhodesian_ridgeback.n.01'),\n",
              " Synset('sporting_dog.n.01'),\n",
              " Synset('terrier.n.01')]"
            ]
          },
          "metadata": {},
          "execution_count": 30
        }
      ]
    },
    {
      "cell_type": "code",
      "metadata": {
        "colab": {
          "base_uri": "https://localhost:8080/"
        },
        "id": "81THrAgRVQKF",
        "outputId": "106d2dd8-d860-418e-a56f-bd274e729324"
      },
      "source": [
        "terrier = huntingdog[5].hyponyms()\n",
        "for i,val in enumerate(terrier):\n",
        "    print(i, val)"
      ],
      "execution_count": 34,
      "outputs": [
        {
          "output_type": "stream",
          "name": "stdout",
          "text": [
            "0 Synset('airedale.n.01')\n",
            "1 Synset('australian_terrier.n.01')\n",
            "2 Synset('bedlington_terrier.n.01')\n",
            "3 Synset('border_terrier.n.01')\n",
            "4 Synset('boston_bull.n.01')\n",
            "5 Synset('bullterrier.n.01')\n",
            "6 Synset('cairn.n.02')\n",
            "7 Synset('dandie_dinmont.n.01')\n",
            "8 Synset('fox_terrier.n.01')\n",
            "9 Synset('irish_terrier.n.01')\n",
            "10 Synset('kerry_blue_terrier.n.01')\n",
            "11 Synset('lhasa.n.02')\n",
            "12 Synset('norfolk_terrier.n.01')\n",
            "13 Synset('norwich_terrier.n.01')\n",
            "14 Synset('rat_terrier.n.01')\n",
            "15 Synset('schnauzer.n.01')\n",
            "16 Synset('scotch_terrier.n.01')\n",
            "17 Synset('silky_terrier.n.01')\n",
            "18 Synset('skye_terrier.n.01')\n",
            "19 Synset('soft-coated_wheaten_terrier.n.01')\n",
            "20 Synset('tibetan_terrier.n.01')\n",
            "21 Synset('west_highland_white_terrier.n.01')\n",
            "22 Synset('wirehair.n.01')\n",
            "23 Synset('yorkshire_terrier.n.01')\n"
          ]
        }
      ]
    },
    {
      "cell_type": "code",
      "metadata": {
        "colab": {
          "base_uri": "https://localhost:8080/"
        },
        "id": "_hadQpMSVaXO",
        "outputId": "8ddacf81-4364-4222-b1f6-ee358e59525e"
      },
      "source": [
        "norfolk = terrier[12].hypernym_paths()\n",
        "norfolk"
      ],
      "execution_count": 38,
      "outputs": [
        {
          "output_type": "execute_result",
          "data": {
            "text/plain": [
              "[[Synset('entity.n.01'),\n",
              "  Synset('physical_entity.n.01'),\n",
              "  Synset('object.n.01'),\n",
              "  Synset('whole.n.02'),\n",
              "  Synset('living_thing.n.01'),\n",
              "  Synset('organism.n.01'),\n",
              "  Synset('animal.n.01'),\n",
              "  Synset('chordate.n.01'),\n",
              "  Synset('vertebrate.n.01'),\n",
              "  Synset('mammal.n.01'),\n",
              "  Synset('placental.n.01'),\n",
              "  Synset('carnivore.n.01'),\n",
              "  Synset('canine.n.02'),\n",
              "  Synset('dog.n.01'),\n",
              "  Synset('hunting_dog.n.01'),\n",
              "  Synset('terrier.n.01'),\n",
              "  Synset('norfolk_terrier.n.01')],\n",
              " [Synset('entity.n.01'),\n",
              "  Synset('physical_entity.n.01'),\n",
              "  Synset('object.n.01'),\n",
              "  Synset('whole.n.02'),\n",
              "  Synset('living_thing.n.01'),\n",
              "  Synset('organism.n.01'),\n",
              "  Synset('animal.n.01'),\n",
              "  Synset('domestic_animal.n.01'),\n",
              "  Synset('dog.n.01'),\n",
              "  Synset('hunting_dog.n.01'),\n",
              "  Synset('terrier.n.01'),\n",
              "  Synset('norfolk_terrier.n.01')]]"
            ]
          },
          "metadata": {},
          "execution_count": 38
        }
      ]
    },
    {
      "cell_type": "code",
      "metadata": {
        "colab": {
          "base_uri": "https://localhost:8080/"
        },
        "id": "ai2MjCpdVrEF",
        "outputId": "b0ac0450-2ceb-4c4a-e79b-ab52fc59994e"
      },
      "source": [
        "terrier[12].hyponyms()"
      ],
      "execution_count": 40,
      "outputs": [
        {
          "output_type": "execute_result",
          "data": {
            "text/plain": [
              "[]"
            ]
          },
          "metadata": {},
          "execution_count": 40
        }
      ]
    },
    {
      "cell_type": "code",
      "metadata": {
        "id": "WmJKkjviV4ZU"
      },
      "source": [
        ""
      ],
      "execution_count": null,
      "outputs": []
    }
  ]
}